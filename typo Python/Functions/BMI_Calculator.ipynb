{
 "cells": [
  {
   "cell_type": "code",
   "execution_count": 10,
   "metadata": {},
   "outputs": [],
   "source": [
    "#BMI\n",
    "import tkinter as tk\n",
    "\n",
    "class BMI:\n",
    "    def __init__(self,mainwindow):\n",
    "        self.mainwindow = mainwindow\n",
    "        mainwindow.geometery('400x300')\n",
    "\n",
    "        self.lb1 = tk.Label(self.mainwindow,text = 'BMI Calculator')\n",
    "        self.lb1.grid(row=0,column=4)\n",
    "        \n",
    "        self.lb2 = tk.Label(self.mainwindow,text = 'Height(m)')\n",
    "        self.lb2.grid(row=2,column=5)\n",
    "\n",
    "        self.height = tk.Entry(self.mainwindow)\n",
    "        self.height.grid(row=3,column=5) \n",
    "\n",
    "        self.lb3 = tk.Label(self.mainwindow,text='Weight(kgs)')\n",
    "        self.lb3.grid(row=2,column = 6)\n",
    "\n",
    "        self.weight = tk.Entry(self.mainwindow)\n",
    "        self.weight.grid(row=4,column=5)\n",
    "\n",
    "\n",
    "        self.bt1 = tk.Button(self.mainwindow,text='Calculate',command=action)\n",
    "\n",
    "        self.output = tk.Lable(self.mainwindow,text ='')\n",
    "        self.output.grid(row=8,column=5)\n",
    "    \n",
    "        def action(self):\n",
    "            val1 = float(self.height.get())\n",
    "            val2 = float(self.weight.get())\n",
    "            ans = val2/(val1 **2)\n",
    "            self.output.config(f\"Your BMI is {ans} \")\n",
    "     \n",
    "        root = tk.Tk()\n",
    "        self.root.mainloop()"
   ]
  }
 ],
 "metadata": {
  "kernelspec": {
   "display_name": "Python 3",
   "language": "python",
   "name": "python3"
  },
  "language_info": {
   "codemirror_mode": {
    "name": "ipython",
    "version": 3
   },
   "file_extension": ".py",
   "mimetype": "text/x-python",
   "name": "python",
   "nbconvert_exporter": "python",
   "pygments_lexer": "ipython3",
   "version": "3.11.5"
  }
 },
 "nbformat": 4,
 "nbformat_minor": 2
}
