{
 "cells": [
  {
   "cell_type": "code",
   "execution_count": null,
   "metadata": {},
   "outputs": [],
   "source": [
    "# Write a function to calculate area and perimeter of a rectangle\n",
    "\n",
    "def Area_Of_Rectangle(l,b):\n",
    "    area = l*b\n",
    "    return(area)\n",
    "def Peri_Of_Rectangle(l,b):    \n",
    "    peri = 2*(l+b)\n",
    "    return(peri)\n",
    "\n",
    "# main code\n",
    "lenght = int(input(\"Enter the lenght of rectangle: \"))\n",
    "breadth = int(input(\"Enter the breadth of rectangle: \"))\n",
    "area = Area_Of_Rectangle(lenght,breadth)\n",
    "perimeter = Peri_Of_Rectangle(lenght,breadth)\n",
    "print(f'Area of the Rectangle is: {area}')\n",
    "print(f'Perimeter of the Rectangle is: {perimeter}')"
   ]
  },
  {
   "cell_type": "code",
   "execution_count": 4,
   "metadata": {},
   "outputs": [
    {
     "name": "stdout",
     "output_type": "stream",
     "text": [
      "Area of circle: 28.26 \n",
      "Circumference of circle is: 18.84\n"
     ]
    }
   ],
   "source": [
    "#  Write a function to calculate area and circumference of a circle\n",
    "def circumference(r):\n",
    "    cir= 2*3.14*r\n",
    "    return(cir)\n",
    "def area(r):\n",
    "    area= 3.14*(r**2)\n",
    "    return(area)\n",
    "# main code\n",
    "radius = int(input(\"Enter the radius of the circle: \"))\n",
    "ar = area(radius)\n",
    "ci = circumference(radius)\n",
    "print(f'Area of circle: {ar} ')\n",
    "print(f'Circumference of circle is: {ci}')  "
   ]
  },
  {
   "cell_type": "code",
   "execution_count": 5,
   "metadata": {},
   "outputs": [
    {
     "name": "stdout",
     "output_type": "stream",
     "text": [
      "The power of a number raised to other is: 4 \n"
     ]
    }
   ],
   "source": [
    "# Write a function to calculate power of a number raised to other\n",
    "def pow(a,b):\n",
    "    x= a**b\n",
    "    return(x)\n",
    "# main code\n",
    "val1 = int(input('Enter the first number: '))\n",
    "val2 = int(input('Enter the second number: '))\n",
    "p = pow(val1,val2)\n",
    "print(f'The power of a number raised to other is: {p} ')"
   ]
  },
  {
   "cell_type": "code",
   "execution_count": 9,
   "metadata": {},
   "outputs": [
    {
     "name": "stdout",
     "output_type": "stream",
     "text": [
      "Sorry you are not eligible to vote :()\n"
     ]
    }
   ],
   "source": [
    "# Write a function to tell user if he/she is able to vote or not\n",
    "def eligible(a):\n",
    "    if a>=18:\n",
    "        print(\"You are eligible to vote :)\")\n",
    "    else:\n",
    "        print(\"Sorry you are not eligible to vote)\")\n",
    "    return(a)\n",
    "# main code \n",
    "val = int(input(\"Please enter your age: \"))\n",
    "a= eligible(val)\n"
   ]
  },
  {
   "cell_type": "code",
   "execution_count": 13,
   "metadata": {},
   "outputs": [
    {
     "name": "stdout",
     "output_type": "stream",
     "text": [
      "The entered number is Odd \n"
     ]
    }
   ],
   "source": [
    "# Write a function to check if a number is even or not.\n",
    "def check(a):\n",
    "    x= a%2\n",
    "    if x==0:\n",
    "        print(\"The entered number is Even \")\n",
    "    else:\n",
    "        print(\"The entered number is Odd \")\n",
    "# main code\n",
    "val = int(input(\"Enter the number to check: \"))\n",
    "y= check(val)\n"
   ]
  },
  {
   "cell_type": "code",
   "execution_count": 21,
   "metadata": {},
   "outputs": [
    {
     "name": "stdout",
     "output_type": "stream",
     "text": [
      "0\n"
     ]
    }
   ],
   "source": [
    "# Wap if the ascending list is given return, if descending give 0,and if unsorted than give -1\n",
    "def check(a):\n",
    "    x = sorted(a)\n",
    "    y = sorted(a, reverse=True)\n",
    "\n",
    "    \n",
    "    if a == x:\n",
    "        print(\"1\")\n",
    "    elif a == y:\n",
    "        print(\"0\")\n",
    "    else:\n",
    "        print(\"-1\")\n",
    "\n",
    "# Main code\n",
    "val = list(map(int, input(\"Enter the list: \").split()))\n",
    "check(val)\n",
    "\n"
   ]
  },
  {
   "cell_type": "code",
   "execution_count": 3,
   "metadata": {},
   "outputs": [
    {
     "name": "stdout",
     "output_type": "stream",
     "text": [
      "The number is prime\n",
      "The number is not prime\n"
     ]
    }
   ],
   "source": [
    "# Write a function to check if a number is prime or not.\n",
    "def prime(a):\n",
    "    if a < 2:\n",
    "        print(\"The number is not prime\")\n",
    "    else:\n",
    "        for i in range(2, int(a**0.5) + 1):\n",
    "            if a % i == 0:\n",
    "                print(\"The number is not prime\")\n",
    "                break\n",
    "        else:\n",
    "            print(\"The number is prime\")\n",
    "\n",
    "# main code\n",
    "val = int(input(\"Enter the number: \"))\n",
    "prime(val)\n"
   ]
  },
  {
   "cell_type": "code",
   "execution_count": 30,
   "metadata": {},
   "outputs": [
    {
     "name": "stdout",
     "output_type": "stream",
     "text": [
      "True\n"
     ]
    }
   ],
   "source": [
    "# Check if the enterd list have all the elements as integer or not\n",
    "def validity_array(ls,valid_type):\n",
    "    return all ([valid_type == type(i)] for i in ls) \n",
    "\n",
    "# main code \n",
    "ls = list(map(int,input(\"Enter the list\").split()))\n",
    "re = validity_array(ls,int)\n",
    "print(re)\n",
    "\n",
    "\n",
    "'''Other Way'''\n",
    "\n",
    "def validity_array(ls,valid_type):\n",
    "    for i in ls:\n",
    "        if type(i) != valid_type:\n",
    "            return False\n",
    "        return True\n",
    "\n",
    "# main code \n",
    "ls = list(map(int,input(\"Enter the list\").split()))\n",
    "re = validity_array(ls,int)\n",
    "print(re)"
   ]
  },
  {
   "cell_type": "code",
   "execution_count": 6,
   "metadata": {},
   "outputs": [
    {
     "name": "stdout",
     "output_type": "stream",
     "text": [
      "The factorial of 0 is: 1\n"
     ]
    }
   ],
   "source": [
    "# Write a function to find factorial of a number but also store the \n",
    "# factorials calculated in a dictionary as done in the Fibonacci series \n",
    "# example.\n",
    "def factorial(n, memo={}):\n",
    "    if n < 0:\n",
    "        return \"Undefined for negative numbers\"\n",
    "    elif n == 0 or n == 1:\n",
    "        return 1\n",
    "    elif n in memo:\n",
    "        return memo[n]\n",
    "    else:\n",
    "        result = n * factorial(n - 1, memo)\n",
    "        memo[n] = result\n",
    "        return result\n",
    "\n",
    "# Main code\n",
    "num = int(input(\"Enter the number: \"))\n",
    "result = factorial(num)\n",
    "print(f\"The factorial of {num} is: {result}\")"
   ]
  }
 ],
 "metadata": {
  "kernelspec": {
   "display_name": "Python 3",
   "language": "python",
   "name": "python3"
  },
  "language_info": {
   "codemirror_mode": {
    "name": "ipython",
    "version": 3
   },
   "file_extension": ".py",
   "mimetype": "text/x-python",
   "name": "python",
   "nbconvert_exporter": "python",
   "pygments_lexer": "ipython3",
   "version": "3.11.5"
  }
 },
 "nbformat": 4,
 "nbformat_minor": 2
}
