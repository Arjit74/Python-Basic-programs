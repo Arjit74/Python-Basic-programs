{
 "cells": [
  {
   "cell_type": "code",
   "execution_count": 3,
   "metadata": {},
   "outputs": [
    {
     "name": "stdout",
     "output_type": "stream",
     "text": [
      "{'name': 'Arjit', 'section': 'CB1', 'rollno': 34, 'mobile': '+91639721839'}\n"
     ]
    }
   ],
   "source": [
    "'''Q1 )Write a Pyhon script to merge two Python dictonaries'''\n",
    "info = {\n",
    "    'name': 'Arjit',\n",
    "    'section': 'CB',\n",
    "    'rollno': 34\n",
    "}\n",
    "new_info = {'section': 'CB1', 'mobile': '+91639721839'}\n",
    "info.update(new_info)\n",
    "\n",
    "print(info)"
   ]
  },
  {
   "cell_type": "code",
   "execution_count": 5,
   "metadata": {},
   "outputs": [
    {
     "name": "stdout",
     "output_type": "stream",
     "text": [
      "name Arjit\n",
      "section CB\n",
      "rollno 34\n"
     ]
    }
   ],
   "source": [
    "# Q2) Write a Python program to iterate over dictionaries using for loops.\n",
    "# Complete iteration in dictonaries\n",
    "info = {\n",
    "    'name': 'Arjit',\n",
    "    'section': 'CB',\n",
    "    'rollno': 34\n",
    "}\n",
    "for i,j in info.items():\n",
    "    print(i,j)\n"
   ]
  },
  {
   "cell_type": "code",
   "execution_count": 2,
   "metadata": {},
   "outputs": [
    {
     "name": "stdout",
     "output_type": "stream",
     "text": [
      "Maximum ['maths'] 29\n",
      "minimum ['English'] 19\n"
     ]
    }
   ],
   "source": [
    "# Write a Python program to sum all the items in a dictionary also displaying the max and min subjects and the marks\n",
    "marks = {\n",
    "    'Physics' : 26,\n",
    "    'English' :19,\n",
    "    'maths' :29,\n",
    "    'webtech':22,\n",
    "    'aiml' :26,\n",
    "    'python':'none',\n",
    "}\n",
    "# Data cleaning (remove all the unnecessary keys)\n",
    "for key , val in list(marks.items()):\n",
    "    if type(val) != int:\n",
    "        marks.pop(key)\n",
    "\n",
    "max_marks = max(marks.values())\n",
    "min_marks = min(marks.values())\n",
    "\n",
    "subject_maxMarks =[]\n",
    "subject_minMarks =[]\n",
    "\n",
    "for key, val in marks.items():\n",
    "    if max_marks == val:\n",
    "        subject_maxMarks.append(key)\n",
    "        \n",
    "    if min_marks == val:\n",
    "        subject_minMarks.append(key)\n",
    "print('Maximum', subject_maxMarks, max_marks)\n",
    "print('minimum', subject_minMarks,min_marks)"
   ]
  },
  {
   "cell_type": "code",
   "execution_count": 32,
   "metadata": {},
   "outputs": [
    {
     "name": "stdout",
     "output_type": "stream",
     "text": [
      "{'Physics': 26, 'English': 19, 'maths': 29, 'webtech': 22, 'aiml': 26, 'Python': None}\n"
     ]
    }
   ],
   "source": [
    "subject = ['Physics','English','maths','webtech','aiml','Python']\n",
    "marks = [26,19,29,22,26,None]\n",
    "\n",
    "out = dict(zip(subject,marks))\n",
    "print(out)\n",
    "\n",
    "# Other way\n",
    "\n",
    "score = {}\n",
    "for i in range(len(marks)):\n",
    "    score[subject[i]] = marks[i]\n",
    "print(score)"
   ]
  },
  {
   "cell_type": "code",
   "execution_count": 3,
   "metadata": {},
   "outputs": [
    {
     "name": "stdout",
     "output_type": "stream",
     "text": [
      "Area of the Rectangle is: 6\n",
      "Perimeter of the Rectangle is: 10\n"
     ]
    }
   ],
   "source": [
    "# Write a function to calculate area and perimeter of a rectangle\n",
    "\n",
    "def Area_Of_Rectangle(l,b):\n",
    "    area = l*b\n",
    "    return(area)\n",
    "def Peri_Of_Rectangle(l,b):    \n",
    "    peri = 2*(l+b)\n",
    "    return(peri)\n",
    "\n",
    "# main code\n",
    "lenght = int(input(\"Enter the lenght of rectangle: \"))\n",
    "breadth = int(input(\"Enter the breadth of rectangle: \"))\n",
    "area = Area_Of_Rectangle(lenght,breadth)\n",
    "perimeter = Peri_Of_Rectangle(lenght,breadth)\n",
    "print(f'Area of the Rectangle is: {area}')\n",
    "print(f'Perimeter of the Rectangle is: {perimeter}')"
   ]
  }
 ],
 "metadata": {
  "kernelspec": {
   "display_name": "Python 3",
   "language": "python",
   "name": "python3"
  },
  "language_info": {
   "codemirror_mode": {
    "name": "ipython",
    "version": 3
   },
   "file_extension": ".py",
   "mimetype": "text/x-python",
   "name": "python",
   "nbconvert_exporter": "python",
   "pygments_lexer": "ipython3",
   "version": "3.11.5"
  }
 },
 "nbformat": 4,
 "nbformat_minor": 2
}
