{
 "cells": [
  {
   "cell_type": "code",
   "execution_count": 4,
   "metadata": {},
   "outputs": [
    {
     "name": "stdout",
     "output_type": "stream",
     "text": [
      "[3 4 53636776 {'hello': 123} 5 'hello']\n",
      "object\n",
      "<class 'numpy.ndarray'>\n"
     ]
    }
   ],
   "source": [
    "# array nadmin\n",
    "\n",
    "import numpy as np \n",
    "\n",
    "arr = np.array([3,4,53636776,{'hello' : 123},5,\"hello\"])\n",
    "print(arr)\n",
    "print(arr.dtype)\n",
    "print(type(arr))"
   ]
  },
  {
   "cell_type": "code",
   "execution_count": 5,
   "metadata": {},
   "outputs": [
    {
     "name": "stdout",
     "output_type": "stream",
     "text": [
      "{'a': 12, 'b': 123}\n",
      "object\n",
      "<class 'numpy.ndarray'>\n"
     ]
    }
   ],
   "source": [
    "\n",
    "import numpy as np \n",
    "# for boolean and intergers and float we will get unique type fpr others we will get object \n",
    "arr = np.array({'a':12 ,'b':123})\n",
    "print(arr)\n",
    "print(arr.dtype)\n",
    "print(type(arr))"
   ]
  },
  {
   "cell_type": "code",
   "execution_count": 7,
   "metadata": {},
   "outputs": [
    {
     "name": "stdout",
     "output_type": "stream",
     "text": [
      "[[ 1  2  3  4]\n",
      " [ 5  6  7  8]\n",
      " [ 9 10 11 12]]\n"
     ]
    }
   ],
   "source": [
    "# ndarray operations \n",
    "\n",
    "arr = np.arange(1,13).reshape(3,4)\n",
    "print(arr)\n"
   ]
  },
  {
   "cell_type": "code",
   "execution_count": 9,
   "metadata": {},
   "outputs": [
    {
     "name": "stdout",
     "output_type": "stream",
     "text": [
      "78\n"
     ]
    }
   ],
   "source": [
    "# Sum\n",
    "out = np.sum(arr) \n",
    "print(out)"
   ]
  },
  {
   "cell_type": "code",
   "execution_count": 11,
   "metadata": {},
   "outputs": [
    {
     "name": "stdout",
     "output_type": "stream",
     "text": [
      "[10 26 42]\n"
     ]
    }
   ],
   "source": [
    "# adding along with rows\n",
    "# Sum\n",
    "out = np.sum(arr ,axis =0) # axis 0 adds vertically ie [1,5,9] .. [2,6,10] .. remaining\n",
    "print(out)"
   ]
  },
  {
   "cell_type": "code",
   "execution_count": null,
   "metadata": {},
   "outputs": [],
   "source": [
    "out = np.sum(arr ,axis = 1) # axis 1 adds horizontally ie [1,2,3,4] than [5,6,7,8] and other \n",
    "print(out)"
   ]
  },
  {
   "cell_type": "code",
   "execution_count": 12,
   "metadata": {},
   "outputs": [
    {
     "name": "stdout",
     "output_type": "stream",
     "text": [
      "[ 9 10 11 12]\n"
     ]
    }
   ],
   "source": [
    "out = np.max(arr ,axis =0) # gives max of column\n",
    "print(out)"
   ]
  },
  {
   "cell_type": "code",
   "execution_count": 13,
   "metadata": {},
   "outputs": [
    {
     "name": "stdout",
     "output_type": "stream",
     "text": [
      "[ 4  8 12]\n"
     ]
    }
   ],
   "source": [
    "out = np.max(arr ,axis = 1) # gives max of row\n",
    "print(out)"
   ]
  },
  {
   "cell_type": "code",
   "execution_count": 21,
   "metadata": {},
   "outputs": [
    {
     "name": "stdout",
     "output_type": "stream",
     "text": [
      "4\n"
     ]
    }
   ],
   "source": [
    "a = 4.5\n",
    "out = round(a) # rounds off the value if the no. is odd , for even it gives the same integer\n",
    "print(out)"
   ]
  },
  {
   "cell_type": "code",
   "execution_count": 22,
   "metadata": {},
   "outputs": [
    {
     "name": "stdout",
     "output_type": "stream",
     "text": [
      "[3.5 2.3 1. ]\n"
     ]
    }
   ],
   "source": [
    "a = np.array([3.5,2.33,1.009])\n",
    "out = np.round(a,1) # we dont get 0 as output after the decimal point\n",
    "print(out)"
   ]
  },
  {
   "cell_type": "code",
   "execution_count": 25,
   "metadata": {},
   "outputs": [
    {
     "name": "stdout",
     "output_type": "stream",
     "text": [
      "[-4.  2.  1.]\n"
     ]
    }
   ],
   "source": [
    "a = np.array([-3.5,2.33,1.009])\n",
    "out = np.floor(a)\n",
    "print(out)"
   ]
  },
  {
   "cell_type": "code",
   "execution_count": 26,
   "metadata": {},
   "outputs": [
    {
     "name": "stdout",
     "output_type": "stream",
     "text": [
      "[-3.  3.  2.]\n"
     ]
    }
   ],
   "source": [
    "a = np.array([-3.5,2.33,1.009])\n",
    "out = np.ceil(a)\n",
    "print(out)"
   ]
  },
  {
   "cell_type": "code",
   "execution_count": 28,
   "metadata": {},
   "outputs": [
    {
     "name": "stdout",
     "output_type": "stream",
     "text": [
      "[[0. 0. 0.]\n",
      " [0. 0. 0.]\n",
      " [0. 0. 0.]]\n"
     ]
    }
   ],
   "source": [
    "print(np.zeros((3,3))) # it gives in string format  and gives a matrix of given dimensions with 0s"
   ]
  },
  {
   "cell_type": "code",
   "execution_count": 30,
   "metadata": {},
   "outputs": [
    {
     "data": {
      "text/plain": [
       "array([[0., 0., 0.],\n",
       "       [0., 0., 0.],\n",
       "       [0., 0., 0.]])"
      ]
     },
     "execution_count": 30,
     "metadata": {},
     "output_type": "execute_result"
    }
   ],
   "source": [
    "(np.zeros((3,3))) # representation gives in array format  and gives a matrix of given dimensions with 0s"
   ]
  },
  {
   "cell_type": "code",
   "execution_count": 34,
   "metadata": {},
   "outputs": [
    {
     "name": "stdout",
     "output_type": "stream",
     "text": [
      "[[4.99006302e-322 0.00000000e+000 4.94065646e-324]\n",
      " [2.12199587e-314 0.00000000e+000 4.94065646e-324]\n",
      " [5.08887615e-322 0.00000000e+000 4.94065646e-324]\n",
      " [4.94065646e-322 0.00000000e+000 4.94065646e-324]\n",
      " [2.12199587e-314 0.00000000e+000 4.94065646e-324]\n",
      " [2.12199587e-314 0.00000000e+000 4.94065646e-324]\n",
      " [4.24399163e-314 0.00000000e+000 4.94065646e-324]\n",
      " [4.99006302e-322 0.00000000e+000 9.88131292e-324]\n",
      " [6.36598745e-314 0.00000000e+000 9.88131292e-324]\n",
      " [4.24399163e-314 0.00000000e+000 9.88131292e-324]\n",
      " [2.12199587e-314 0.00000000e+000 9.88131292e-324]\n",
      " [8.48798321e-314 0.00000000e+000 9.88131292e-324]\n",
      " [1.06099790e-313 0.00000000e+000 1.48219694e-323]\n",
      " [8.48798321e-314 0.00000000e+000 1.48219694e-323]\n",
      " [2.12199586e-314 0.00000000e+000 1.48219694e-323]\n",
      " [4.94065646e-324 0.00000000e+000 1.48219694e-323]\n",
      " [2.12199584e-314 0.00000000e+000 1.48219694e-323]\n",
      " [4.10074486e-322 0.00000000e+000 1.48219694e-323]\n",
      " [0.00000000e+000 0.00000000e+000 0.00000000e+000]\n",
      " [0.00000000e+000 0.00000000e+000 0.00000000e+000]\n",
      " [0.00000000e+000 0.00000000e+000 0.00000000e+000]\n",
      " [0.00000000e+000 0.00000000e+000 0.00000000e+000]\n",
      " [0.00000000e+000 0.00000000e+000 0.00000000e+000]\n",
      " [0.00000000e+000 0.00000000e+000 0.00000000e+000]\n",
      " [0.00000000e+000 0.00000000e+000 0.00000000e+000]\n",
      " [0.00000000e+000 0.00000000e+000 0.00000000e+000]\n",
      " [0.00000000e+000 0.00000000e+000 0.00000000e+000]\n",
      " [0.00000000e+000 0.00000000e+000 0.00000000e+000]\n",
      " [0.00000000e+000 0.00000000e+000 0.00000000e+000]\n",
      " [0.00000000e+000 0.00000000e+000 0.00000000e+000]\n",
      " [0.00000000e+000 0.00000000e+000 0.00000000e+000]\n",
      " [0.00000000e+000 0.00000000e+000 0.00000000e+000]]\n"
     ]
    }
   ],
   "source": [
    "print(np.empty((32,3))) # it gives random matrix of given dimensions"
   ]
  },
  {
   "cell_type": "code",
   "execution_count": 4,
   "metadata": {},
   "outputs": [
    {
     "name": "stdout",
     "output_type": "stream",
     "text": [
      "[[[0 0]\n",
      "  [0 0]\n",
      "  [0 0]]\n",
      "\n",
      " [[0 0]\n",
      "  [0 0]\n",
      "  [0 0]]\n",
      "\n",
      " [[0 0]\n",
      "  [0 0]\n",
      "  [0 0]]\n",
      "\n",
      " [[0 0]\n",
      "  [0 0]\n",
      "  [0 0]]]\n"
     ]
    }
   ],
   "source": [
    "import numpy as np\n",
    "arr = np.zeros((4, 3 ,2), dtype=int)          #3D array with zeros of the specified shape\n",
    "rnd_arr = np.random.randint(0, 20, (4, 3 ,2)) #3D array with random integers from 0 to 20\n",
    "\n",
    "print(arr)"
   ]
  },
  {
   "cell_type": "code",
   "execution_count": 1,
   "metadata": {},
   "outputs": [
    {
     "name": "stdout",
     "output_type": "stream",
     "text": [
      "[[0 0 0 0]\n",
      " [0 0 0 0]\n",
      " [0 0 0 0]]\n"
     ]
    }
   ],
   "source": [
    "import numpy as np\n",
    "print(np.zeros((3,4),dtype = int))"
   ]
  },
  {
   "cell_type": "code",
   "execution_count": 7,
   "metadata": {},
   "outputs": [
    {
     "name": "stdout",
     "output_type": "stream",
     "text": [
      "[ 1.    1.75  2.5   3.25  4.    4.75  5.5   6.25  7.    7.75  8.5   9.25\n",
      " 10.  ]\n"
     ]
    }
   ],
   "source": [
    "# it gives the starting and ending values as specified with a total of the n numebrs given at the end \n",
    "arr = np.linspace(1,10,13) \n",
    "print(arr)"
   ]
  }
 ],
 "metadata": {
  "kernelspec": {
   "display_name": "Python 3",
   "language": "python",
   "name": "python3"
  },
  "language_info": {
   "codemirror_mode": {
    "name": "ipython",
    "version": 3
   },
   "file_extension": ".py",
   "mimetype": "text/x-python",
   "name": "python",
   "nbconvert_exporter": "python",
   "pygments_lexer": "ipython3",
   "version": "3.10.1"
  }
 },
 "nbformat": 4,
 "nbformat_minor": 2
}
