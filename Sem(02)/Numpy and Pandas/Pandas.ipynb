{
 "cells": [
  {
   "cell_type": "code",
   "execution_count": 2,
   "metadata": {},
   "outputs": [
    {
     "name": "stdout",
     "output_type": "stream",
     "text": [
      "1      Arjit\n",
      "2      Ayush\n",
      "3    Apransh\n",
      "4       Aman\n",
      "5      Kamal\n",
      "dtype: object\n"
     ]
    }
   ],
   "source": [
    "import pandas as pd\n",
    "# format of Series :- pandas.Series(data,index,dtype)\n",
    "\n",
    "data = pd.Series(['Arjit','Ayush','Apransh','Aman','Kamal'],[1,2,3,4,5])\n",
    "print(data)"
   ]
  },
  {
   "cell_type": "code",
   "execution_count": 5,
   "metadata": {},
   "outputs": [
    {
     "name": "stdout",
     "output_type": "stream",
     "text": [
      "1}      Arjit\n",
      "2}      Ayush\n",
      "3}    Apransh\n",
      "4.       Aman\n",
      "5.      Kamal\n",
      "dtype: object\n"
     ]
    }
   ],
   "source": [
    "# Custom indexing\n",
    "data.index = ['1}','2}','3}','4.','5.']\n",
    "print(data)                "
   ]
  },
  {
   "cell_type": "code",
   "execution_count": 10,
   "metadata": {},
   "outputs": [
    {
     "name": "stdout",
     "output_type": "stream",
     "text": [
      "   0\n",
      "0  a\n",
      "1  b\n",
      "2  c\n",
      "3  d\n",
      "4  e\n"
     ]
    }
   ],
   "source": [
    "# Format of DataFrame :- pandas.DataFrame(data,index,columns,dtype)\n",
    "# Examples:- \n",
    "import pandas as pd\n",
    "data = ['a','b','c','d','e']\n",
    "df = pd.DataFrame(data)\n",
    "print(df)\n",
    "\n",
    "# 0 is for column number, since here is only one column therefore the number is 0\n"
   ]
  },
  {
   "cell_type": "code",
   "execution_count": 12,
   "metadata": {},
   "outputs": [
    {
     "name": "stdout",
     "output_type": "stream",
     "text": [
      "     Name  Age\n",
      "1}  Arjit   10\n",
      "2}   Aman   11\n",
      "3}  Ayush   12\n"
     ]
    }
   ],
   "source": [
    "# Example 2\n",
    "\n",
    "import pandas as pd\n",
    "\n",
    "data = [['Arjit',10],['Aman',11],['Ayush',12]]\n",
    "df = pd.DataFrame(data,columns=['Name','Age'],index=['1}','2}','3}'])\n",
    "print(df)"
   ]
  },
  {
   "cell_type": "code",
   "execution_count": 14,
   "metadata": {},
   "outputs": [
    {
     "name": "stdout",
     "output_type": "stream",
     "text": [
      "       Name  Age\n",
      "1}    Arjit   11\n",
      "2}    Ayush   12\n",
      "3}     Aman   13\n",
      "4}  Apransh   14\n"
     ]
    }
   ],
   "source": [
    "# in the form of Dictionary (jason data)\n",
    "\n",
    "import pandas as pd\n",
    "\n",
    "data = {'Name':['Arjit','Ayush','Aman','Apransh'],'Age':[11,12,13,14]}\n",
    "df = pd.DataFrame(data,index= ['1}','2}','3}','4}'])\n",
    "print(df)"
   ]
  },
  {
   "cell_type": "code",
   "execution_count": 1,
   "metadata": {},
   "outputs": [
    {
     "name": "stdout",
     "output_type": "stream",
     "text": [
      "a    11.0\n",
      "b    12.0\n",
      "c    13.0\n",
      "d    14.0\n",
      "e    15.5\n",
      "dtype: float64\n"
     ]
    }
   ],
   "source": [
    "# Pandas (offer data structures and operations for manipulating Numeric )\n",
    "import pandas as pd\n",
    "\n",
    "series = pd.Series([11,12,13,14,15.5],index = list('abcde'))\n",
    "print(series)"
   ]
  },
  {
   "cell_type": "code",
   "execution_count": 2,
   "metadata": {},
   "outputs": [
    {
     "name": "stdout",
     "output_type": "stream",
     "text": [
      "         0   1\n",
      "0  Apransh  10\n",
      "1    Arjit  20\n",
      "2    Ayush  15\n"
     ]
    }
   ],
   "source": [
    "df = pd.DataFrame([('Apransh',10),('Arjit',20),('Ayush',15)])\n",
    "print(df)"
   ]
  },
  {
   "cell_type": "code",
   "execution_count": 8,
   "metadata": {},
   "outputs": [
    {
     "name": "stdout",
     "output_type": "stream",
     "text": [
      "      Name  Marks\n",
      "0  Apransh     10\n",
      "1    Arjit     20\n",
      "2    Ayush     15\n"
     ]
    }
   ],
   "source": [
    "# to give column names:-\n",
    "df = pd.DataFrame([('Apransh',10),('Arjit',20),('Ayush',15)], columns=['Name','Marks'])\n",
    "print(df)"
   ]
  },
  {
   "cell_type": "code",
   "execution_count": 9,
   "metadata": {},
   "outputs": [
    {
     "name": "stdout",
     "output_type": "stream",
     "text": [
      "Empty DataFrame\n",
      "Columns: [hello i am arjit sharma ]\n",
      "Index: []\n"
     ]
    }
   ],
   "source": [
    "# CSV:- format - file address inside the brackets with r or //\n",
    "data = pd.read_csv(r\"C:\\Users\\ARJIT SHARMA\\OneDrive\\Desktop\\Hello.csv\")\n",
    "print(data)\n",
    "\n",
    "# to display less data :- use head\n",
    "# to display only one column(film) & (directors) as series from csv file \n",
    "data1 = data['film','Directors']  \n",
    "print(data1,type(data1))\n",
    "\n",
    "\n",
    "# to get any column ('Rank') as custom index :- \n",
    "data = pd.read_csv(r\"C:\\Users\\ARJIT SHARMA\\OneDrive\\Desktop\\Hello.csv\" , index_col=['Rank'] )"
   ]
  },
  {
   "cell_type": "code",
   "execution_count": null,
   "metadata": {},
   "outputs": [],
   "source": [
    "# If we want rank with no. 1 along with its one column data (suppose 'Film' at rank (1))\n",
    "data.loc[1,'Film']\n",
    "\n",
    "# if we give any column which is not in our csv file it will give KEY ERROR\n",
    "\n",
    "# to get data from 1 to 3 even if it is unordered \n",
    "data.loc[1:3,'Film']\n",
    "\n",
    "# to get 2 coulmn along with all the data\n",
    "data.loc[:,['Film','Directors']]\n",
    "\n",
    "# it works on true/false :\n",
    "data.loc[:, [True,False,False,False,]]\n",
    "\n",
    "# to get only year greater than 2016 along with all data  through pandas \n",
    "data.loc[data['Year'] > 2016, :]\n",
    "\n",
    "# to get only year greater than 2016 along with all data  through pandas \n",
    "data.loc[data['Year'] > 2016, ['Film', 'Producer', 'Year']]"
   ]
  },
  {
   "cell_type": "code",
   "execution_count": 11,
   "metadata": {},
   "outputs": [
    {
     "name": "stdout",
     "output_type": "stream",
     "text": [
      "[ 3  4  5  6  7 78  9]\n"
     ]
    }
   ],
   "source": [
    "\n",
    "# to get the same through numpy\n",
    "import numpy as np\n",
    "ar = np.array([1,2,3,4,5,76,7])\n",
    "print(ar + 2)"
   ]
  },
  {
   "cell_type": "code",
   "execution_count": 5,
   "metadata": {},
   "outputs": [
    {
     "name": "stdout",
     "output_type": "stream",
     "text": [
      "Empty DataFrame\n",
      "Columns: [hello i am arjit sharma ]\n",
      "Index: []\n"
     ]
    }
   ],
   "source": [
    "# create dataframe:-\n",
    "import pandas as pd\n",
    "path = r\"C:\\Users\\ARJIT SHARMA\\OneDrive\\Desktop\\Hello.csv\"\n",
    "ar = pd.read_csv(path)\n",
    "print(ar)"
   ]
  },
  {
   "cell_type": "code",
   "execution_count": 8,
   "metadata": {},
   "outputs": [
    {
     "name": "stdout",
     "output_type": "stream",
     "text": [
      "<class 'list'>\n"
     ]
    },
    {
     "ename": "AttributeError",
     "evalue": "'str' object has no attribute 'loc'",
     "output_type": "error",
     "traceback": [
      "\u001b[1;31m---------------------------------------------------------------------------\u001b[0m",
      "\u001b[1;31mAttributeError\u001b[0m                            Traceback (most recent call last)",
      "Cell \u001b[1;32mIn[8], line 5\u001b[0m\n\u001b[0;32m      2\u001b[0m \u001b[38;5;28mprint\u001b[39m(\u001b[38;5;28mtype\u001b[39m(st))\n\u001b[0;32m      4\u001b[0m data \u001b[38;5;241m=\u001b[39m \u001b[38;5;124mr\u001b[39m\u001b[38;5;124m\"\u001b[39m\u001b[38;5;124mC:\u001b[39m\u001b[38;5;124m\\\u001b[39m\u001b[38;5;124mUsers\u001b[39m\u001b[38;5;124m\\\u001b[39m\u001b[38;5;124mARJIT SHARMA\u001b[39m\u001b[38;5;124m\\\u001b[39m\u001b[38;5;124mOneDrive\u001b[39m\u001b[38;5;124m\\\u001b[39m\u001b[38;5;124mDesktop\u001b[39m\u001b[38;5;124m\\\u001b[39m\u001b[38;5;124mHello.csv\u001b[39m\u001b[38;5;124m\"\u001b[39m\n\u001b[1;32m----> 5\u001b[0m \u001b[43mdata\u001b[49m\u001b[38;5;241;43m.\u001b[39;49m\u001b[43mloc\u001b[49m[\u001b[38;5;124m'\u001b[39m\u001b[38;5;124ma\u001b[39m\u001b[38;5;124m'\u001b[39m]\n",
      "\u001b[1;31mAttributeError\u001b[0m: 'str' object has no attribute 'loc'"
     ]
    }
   ],
   "source": [
    "st = [3,5]\n",
    "print(type(st))\n",
    "\n",
    "data = r\"C:\\Users\\ARJIT SHARMA\\OneDrive\\Desktop\\Hello.csv\"\n",
    "data.loc['a' : 'z' ,'Name' ]   # z is included and if there is no z than it will run till the end of the data \n",
    "# here a and z are the rows and name is the column \n",
    "\n",
    "data.loc['a','name':'marks'] # this shows first row along with column name and marks "
   ]
  },
  {
   "cell_type": "code",
   "execution_count": 9,
   "metadata": {},
   "outputs": [
    {
     "ename": "AttributeError",
     "evalue": "'str' object has no attribute 'loc'",
     "output_type": "error",
     "traceback": [
      "\u001b[1;31m---------------------------------------------------------------------------\u001b[0m",
      "\u001b[1;31mAttributeError\u001b[0m                            Traceback (most recent call last)",
      "Cell \u001b[1;32mIn[9], line 3\u001b[0m\n\u001b[0;32m      1\u001b[0m \u001b[38;5;66;03m# Boolean Indexing \u001b[39;00m\n\u001b[1;32m----> 3\u001b[0m \u001b[43mdata\u001b[49m\u001b[38;5;241;43m.\u001b[39;49m\u001b[43mloc\u001b[49m[[\u001b[38;5;28;01mTrue\u001b[39;00m,\u001b[38;5;28;01mFalse\u001b[39;00m,\u001b[38;5;28;01mTrue\u001b[39;00m], [\u001b[38;5;28;01mTrue\u001b[39;00m,\u001b[38;5;28;01mFalse\u001b[39;00m]]\n",
      "\u001b[1;31mAttributeError\u001b[0m: 'str' object has no attribute 'loc'"
     ]
    }
   ],
   "source": [
    "# Boolean Indexing \n",
    "\n",
    "data.loc[[True,False,True], [True,False]]"
   ]
  },
  {
   "cell_type": "code",
   "execution_count": 31,
   "metadata": {},
   "outputs": [
    {
     "name": "stdout",
     "output_type": "stream",
     "text": [
      "      Name  Marks\n",
      "0   Arjit      25\n",
      "1  Apransh     24\n"
     ]
    }
   ],
   "source": [
    "import pandas as pd\n",
    "\n",
    "# Correct file path\n",
    "dat = r\"C:\\Users\\ARJIT SHARMA\\OneDrive\\Desktop\\Hello.csv\"\n",
    "\n",
    "# Read the CSV file directly into a DataFrame\n",
    "data = pd.read_csv(dat)\n",
    "\n",
    "# Filter the data\n",
    "filtered_data = data.loc[(data['Marks'] < 26) & (data['Marks'] > 23), ['Name', 'Marks']]\n",
    "print(filtered_data)\n"
   ]
  },
  {
   "cell_type": "code",
   "execution_count": 16,
   "metadata": {},
   "outputs": [
    {
     "name": "stdout",
     "output_type": "stream",
     "text": [
      "4\n"
     ]
    }
   ],
   "source": [
    "# shows the number of rows present :-\n",
    "print(len(data))"
   ]
  },
  {
   "cell_type": "code",
   "execution_count": 32,
   "metadata": {},
   "outputs": [
    {
     "name": "stdout",
     "output_type": "stream",
     "text": [
      "Name     Arjit \n",
      "Marks        25\n",
      "Name: 0, dtype: object <class 'pandas.core.series.Series'>\n",
      "Name     Apransh\n",
      "Marks         24\n",
      "Name: 1, dtype: object <class 'pandas.core.series.Series'>\n",
      "Name     Ayush\n",
      "Marks       23\n",
      "Name: 2, dtype: object <class 'pandas.core.series.Series'>\n",
      "Name     Bhaskar\n",
      "Marks         11\n",
      "Name: 3, dtype: object <class 'pandas.core.series.Series'>\n"
     ]
    }
   ],
   "source": [
    "for i in data.iterrows():\n",
    "    print(i[1],type(i[1]))\n",
    "    "
   ]
  },
  {
   "cell_type": "code",
   "execution_count": 33,
   "metadata": {},
   "outputs": [
    {
     "name": "stdout",
     "output_type": "stream",
     "text": [
      "(3, Name     Bhaskar\n",
      "Marks         11\n",
      "Name: 3, dtype: object)\n",
      "(3, Name     Bhaskar\n",
      "Marks         11\n",
      "Name: 3, dtype: object)\n",
      "(3, Name     Bhaskar\n",
      "Marks         11\n",
      "Name: 3, dtype: object)\n",
      "(3, Name     Bhaskar\n",
      "Marks         11\n",
      "Name: 3, dtype: object)\n"
     ]
    }
   ],
   "source": [
    "for index,data in data.iterrows():\n",
    "    print(i)"
   ]
  },
  {
   "cell_type": "code",
   "execution_count": null,
   "metadata": {},
   "outputs": [],
   "source": []
  }
 ],
 "metadata": {
  "kernelspec": {
   "display_name": "Python 3",
   "language": "python",
   "name": "python3"
  },
  "language_info": {
   "codemirror_mode": {
    "name": "ipython",
    "version": 3
   },
   "file_extension": ".py",
   "mimetype": "text/x-python",
   "name": "python",
   "nbconvert_exporter": "python",
   "pygments_lexer": "ipython3",
   "version": "3.10.1"
  }
 },
 "nbformat": 4,
 "nbformat_minor": 2
}
