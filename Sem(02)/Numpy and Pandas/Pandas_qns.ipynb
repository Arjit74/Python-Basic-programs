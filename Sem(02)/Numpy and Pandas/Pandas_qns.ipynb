{
 "cells": [
  {
   "cell_type": "code",
   "execution_count": 15,
   "metadata": {},
   "outputs": [
    {
     "name": "stdout",
     "output_type": "stream",
     "text": [
      "     Actor Id            Actors  Movies  Rating     Rank     Hits  Google Rank\n",
      "0         373        Aamir Khan      11    1170  9.44862  2460000      7.34283\n",
      "1         374    Shah Rukh Khan      23    2000  7.55009  2670000      7.88458\n",
      "2         375       Salman Khan      36    2340  5.40217  3490000     10.00000\n",
      "3         376      Katrina Kaif      17    1640  8.48082  2120000      6.46570\n",
      "4         377  Deepika Padukone      16    1080  5.64674  3000000      8.73591\n",
      "..        ...               ...     ...     ...      ...      ...          ...\n",
      "296       669       Achint Kaur       4      80  1.00000        0          NaN\n",
      "297       670   Yuvika Chaudhry       5     100  1.00000        0          NaN\n",
      "298       671      Pankaj Berry       5     100  1.00000        0          NaN\n",
      "299       672      Varun Dhawan       0       0      NaN        0          NaN\n",
      "300       673     Nargis Fakhri       0       0      NaN        0          NaN\n",
      "\n",
      "[301 rows x 7 columns]\n"
     ]
    }
   ],
   "source": [
    "# 1. Load Data and Basic Operations:\n",
    "# o Load a CSV file into a DataFrame using Pandas.\n",
    "import pandas as pd\n",
    "df = pd.read_csv(r\"D:\\Python 2024\\New Sem (02)\\Numpy and Pandas\\Actors.csv\")\n",
    "print(df)"
   ]
  },
  {
   "cell_type": "code",
   "execution_count": 11,
   "metadata": {},
   "outputs": [
    {
     "name": "stdout",
     "output_type": "stream",
     "text": [
      "   Actor Id            Actors  Movies  Rating     Rank     Hits  Google Rank\n",
      "0       373        Aamir Khan      11    1170  9.44862  2460000      7.34283\n",
      "1       374    Shah Rukh Khan      23    2000  7.55009  2670000      7.88458\n",
      "2       375       Salman Khan      36    2340  5.40217  3490000     10.00000\n",
      "3       376      Katrina Kaif      17    1640  8.48082  2120000      6.46570\n",
      "4       377  Deepika Padukone      16    1080  5.64674  3000000      8.73591\n"
     ]
    }
   ],
   "source": [
    "# o Display the first 5 rows of the DataFrame.\n",
    "print(df.head())"
   ]
  },
  {
   "cell_type": "code",
   "execution_count": 14,
   "metadata": {},
   "outputs": [
    {
     "name": "stdout",
     "output_type": "stream",
     "text": [
      "Index(['Actor Id', 'Actors', 'Movies', 'Rating', 'Rank', 'Hits',\n",
      "       'Google Rank'],\n",
      "      dtype='object')\n"
     ]
    }
   ],
   "source": [
    "# o Display the column names of the DataFrame.\n",
    "print(df.columns)"
   ]
  },
  {
   "cell_type": "code",
   "execution_count": 13,
   "metadata": {},
   "outputs": [
    {
     "name": "stdout",
     "output_type": "stream",
     "text": [
      "(301, 7)\n"
     ]
    }
   ],
   "source": [
    "# o Check the shape of the DataFrame (number of rows and columns).\n",
    "print(df.shape)"
   ]
  },
  {
   "cell_type": "code",
   "execution_count": 12,
   "metadata": {},
   "outputs": [
    {
     "name": "stdout",
     "output_type": "stream",
     "text": [
      "Actor Id         int64\n",
      "Actors          object\n",
      "Movies           int64\n",
      "Rating           int64\n",
      "Rank           float64\n",
      "Hits             int64\n",
      "Google Rank    float64\n",
      "dtype: object\n"
     ]
    }
   ],
   "source": [
    "# o Find the data types of each column in the DataFrame.\n",
    "print(df.dtypes)"
   ]
  },
  {
   "cell_type": "code",
   "execution_count": 29,
   "metadata": {},
   "outputs": [
    {
     "name": "stdout",
     "output_type": "stream",
     "text": [
      "0            Aamir Khan\n",
      "1        Shah Rukh Khan\n",
      "2           Salman Khan\n",
      "3          Katrina Kaif\n",
      "4      Deepika Padukone\n",
      "             ...       \n",
      "296         Achint Kaur\n",
      "297     Yuvika Chaudhry\n",
      "298        Pankaj Berry\n",
      "299        Varun Dhawan\n",
      "300       Nargis Fakhri\n",
      "Name: Actors, Length: 301, dtype: object\n"
     ]
    }
   ],
   "source": [
    "# 2. Data Selection and Filtering:\n",
    "# o Select a single column from the DataFrame.\n",
    "print(df['Actors'])"
   ]
  },
  {
   "cell_type": "code",
   "execution_count": 26,
   "metadata": {},
   "outputs": [
    {
     "name": "stdout",
     "output_type": "stream",
     "text": [
      "               Actors  Movies\n",
      "0          Aamir Khan      11\n",
      "1      Shah Rukh Khan      23\n",
      "2         Salman Khan      36\n",
      "3        Katrina Kaif      17\n",
      "4    Deepika Padukone      16\n",
      "..                ...     ...\n",
      "296       Achint Kaur       4\n",
      "297   Yuvika Chaudhry       5\n",
      "298      Pankaj Berry       5\n",
      "299      Varun Dhawan       0\n",
      "300     Nargis Fakhri       0\n",
      "\n",
      "[301 rows x 2 columns]\n"
     ]
    }
   ],
   "source": [
    "# o Select multiple columns from the DataFrame.\n",
    "print(df[['Actors','Movies']])\n",
    "\n"
   ]
  },
  {
   "cell_type": "code",
   "execution_count": 28,
   "metadata": {},
   "outputs": [
    {
     "name": "stdout",
     "output_type": "stream",
     "text": [
      "     Actor Id           Actors  Movies  Rating     Rank   Hits  Google Rank\n",
      "228       601       Sahil Khan       5     160  2.17391      0          NaN\n",
      "229       602        Yash Tonk       5     160  2.17391      0          NaN\n",
      "230       603       Ishrat Ali       5     100  1.00000  68100      1.17225\n",
      "231       604    Milind Gunaji      10     200  1.00000  24300      1.05926\n",
      "232       605     Sudesh Berry       6     120  1.00000  16100      1.03810\n",
      "..        ...              ...     ...     ...      ...    ...          ...\n",
      "296       669      Achint Kaur       4      80  1.00000      0          NaN\n",
      "297       670  Yuvika Chaudhry       5     100  1.00000      0          NaN\n",
      "298       671     Pankaj Berry       5     100  1.00000      0          NaN\n",
      "299       672     Varun Dhawan       0       0      NaN      0          NaN\n",
      "300       673    Nargis Fakhri       0       0      NaN      0          NaN\n",
      "\n",
      "[73 rows x 7 columns]\n"
     ]
    }
   ],
   "source": [
    "# o Filter rows based on a condition (e.g., select rows where a certain column value is \n",
    "# greater than 100).\n",
    "print(df[df['Actor Id']>600])"
   ]
  },
  {
   "cell_type": "code",
   "execution_count": 31,
   "metadata": {},
   "outputs": [
    {
     "name": "stdout",
     "output_type": "stream",
     "text": [
      "     Actor Id             Actors  Movies  Rating     Rank   Hits  Google Rank\n",
      "228       601         Sahil Khan       5     160  2.17391      0          NaN\n",
      "229       602          Yash Tonk       5     160  2.17391      0          NaN\n",
      "230       603         Ishrat Ali       5     100  1.00000  68100      1.17225\n",
      "237       610         Kader Khan       5     150  1.97826      0          NaN\n",
      "241       614  Himesh Reshammiya       5     150  1.97826      0          NaN\n",
      "244       617        Purab Kohli       5     150  1.97826      0          NaN\n",
      "245       618           Ila Arun       5     140  1.78261      0          NaN\n",
      "246       619         Ram Kapoor       5     140  1.78261      0          NaN\n",
      "247       620        Manoj Joshi       5     140  1.78261      0          NaN\n",
      "248       621   Preeti Jhangiani       5     140  1.78261      0          NaN\n",
      "249       622     Jacky Bhagnani       5     140  1.78261      0          NaN\n",
      "251       624        Neha Sharma       5     130  1.58696      0          NaN\n",
      "260       633        Vatsal Seth       5     120  1.39130      0          NaN\n",
      "261       634  Suman Ranganathan       5     120  1.39130      0          NaN\n",
      "262       635      Javed Jaffrey       5     120  1.39130      0          NaN\n",
      "263       636       Mukesh Bhatt       5     120  1.39130      0          NaN\n",
      "272       645        Kiran Kumar       5     110  1.19565      0          NaN\n",
      "273       646      Chunky Pandey       5     110  1.19565      0          NaN\n",
      "274       647       Mandira Bedi       5     110  1.19565      0          NaN\n",
      "275       648  Makrand Deshpande       5     110  1.19565      0          NaN\n",
      "276       649  Aditya Srivastava       5     110  1.19565      0          NaN\n",
      "277       650     Nauheed Cyrusi       5     100  1.00000      0          NaN\n",
      "283       656     Nagesh Bhonsle       5     100  1.00000      0          NaN\n",
      "284       657    Shweta Bhardwaj       5     100  1.00000      0          NaN\n",
      "288       661       Hazel Croney       5     100  1.00000      0          NaN\n",
      "297       670    Yuvika Chaudhry       5     100  1.00000      0          NaN\n",
      "298       671       Pankaj Berry       5     100  1.00000      0          NaN\n"
     ]
    }
   ],
   "source": [
    "# o Apply multiple filters on the DataFrame and display the result.\n",
    "print(df[(df['Actor Id'] > 600) & (df['Movies'] == 5)])"
   ]
  },
  {
   "cell_type": "code",
   "execution_count": null,
   "metadata": {},
   "outputs": [],
   "source": []
  }
 ],
 "metadata": {
  "kernelspec": {
   "display_name": "Python 3",
   "language": "python",
   "name": "python3"
  },
  "language_info": {
   "codemirror_mode": {
    "name": "ipython",
    "version": 3
   },
   "file_extension": ".py",
   "mimetype": "text/x-python",
   "name": "python",
   "nbconvert_exporter": "python",
   "pygments_lexer": "ipython3",
   "version": "3.10.1"
  }
 },
 "nbformat": 4,
 "nbformat_minor": 2
}
