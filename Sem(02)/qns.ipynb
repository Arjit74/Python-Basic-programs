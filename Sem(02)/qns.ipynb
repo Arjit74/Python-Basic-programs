{
 "cells": [
  {
   "cell_type": "code",
   "execution_count": 4,
   "metadata": {},
   "outputs": [
    {
     "ename": "ValueError",
     "evalue": "too many values to unpack (expected 2)",
     "output_type": "error",
     "traceback": [
      "\u001b[1;31m---------------------------------------------------------------------------\u001b[0m",
      "\u001b[1;31mValueError\u001b[0m                                Traceback (most recent call last)",
      "Cell \u001b[1;32mIn[4], line 33\u001b[0m\n\u001b[0;32m     31\u001b[0m \u001b[38;5;66;03m# raw error\u001b[39;00m\n\u001b[0;32m     32\u001b[0m lst1 \u001b[38;5;241m=\u001b[39m \u001b[38;5;28mlist\u001b[39m(\u001b[38;5;28mmap\u001b[39m(\u001b[38;5;28mint\u001b[39m,\u001b[38;5;28minput\u001b[39m()\u001b[38;5;241m.\u001b[39msplit()))\n\u001b[1;32m---> 33\u001b[0m r1, c1 \u001b[38;5;241m=\u001b[39m \u001b[38;5;28mlist\u001b[39m(\u001b[38;5;28mmap\u001b[39m(\u001b[38;5;28mint\u001b[39m,\u001b[38;5;28minput\u001b[39m()\u001b[38;5;241m.\u001b[39msplit()))\n\u001b[0;32m     34\u001b[0m arr1 \u001b[38;5;241m=\u001b[39m array(lst1)\n\u001b[0;32m     35\u001b[0m arr1\u001b[38;5;241m.\u001b[39mreshape(r1,c1)\n",
      "\u001b[1;31mValueError\u001b[0m: too many values to unpack (expected 2)"
     ]
    }
   ],
   "source": [
    "# Write a python program for addition,subtraction and multiplication (dot product and element) of matirx\n",
    "\n",
    "# matrix multiplication\n",
    "class array:\n",
    "    def __init__(self,lst):\n",
    "        self.lst = lst\n",
    "    def reshape(self,m,n):\n",
    "        M = []\n",
    "        tmp = []\n",
    "        for i in self.lst:\n",
    "            tmp.append(i)\n",
    "            if len(tmp)== n:\n",
    "                M.append(tmp)\n",
    "                tmp = []\n",
    "        self.lst = M\n",
    "    def __add__(self,other):\n",
    "        row = len(self.lst)\n",
    "        col = len(self.lst[0])\n",
    "        M = [[0 for _ in range(col)] for _ in range(row)]\n",
    "        for i in range(row):\n",
    "            for j in range(col):\n",
    "                M[i][j]= self.lst[i][j] + other.lst[i][j]\n",
    "            return array(M)\n",
    "\n",
    "\n",
    "    def disp_matrix(self):\n",
    "        for i in self.lst:\n",
    "            print(*i)\n",
    "\n",
    "\n",
    "# raw error\n",
    "lst1 = list(map(int,input().split()))\n",
    "r1, c1 = list(map(int,input().split()))\n",
    "arr1 = array(lst1)\n",
    "arr1.reshape(r1,c1)\n",
    "print(\"\\n Matrix 1\")\n",
    "arr1.disp_matrix()\n",
    "\n",
    "lst2 = list(map(int,input().split()))\n",
    "r2, c2 = list(map(int,input().split()))\n",
    "arr2 = array(lst2)\n",
    "arr2.reshape(r2,c2)\n",
    "print(\"\\n Matrix 2\")\n",
    "arr2.disp_matrix()\n",
    "\n",
    "if (r1,c1) ==(r2,c2):\n",
    "    print(\"\\n Addition\")\n",
    "    addition = arr1 + arr2\n",
    "\n",
    "\n",
    "else:\n",
    "    print(\"Invalid Dimensions for operation\")"
   ]
  },
  {
   "cell_type": "code",
   "execution_count": null,
   "metadata": {},
   "outputs": [
    {
     "name": "stdout",
     "output_type": "stream",
     "text": [
      "[[1 2 3]\n",
      " [4 5 6]\n",
      " [7 8 9]]\n"
     ]
    }
   ],
   "source": [
    "import numpy as np\n",
    "lst = list (map(int,input().split()))\n",
    "arr = np.array(lst).reshape((3,3))\n",
    "print(arr)"
   ]
  },
  {
   "cell_type": "code",
   "execution_count": 5,
   "metadata": {},
   "outputs": [
    {
     "name": "stdout",
     "output_type": "stream",
     "text": [
      "array1: [1, 2, 3, 4]\n",
      "array2: [5, 6, 7, 8]\n",
      "[[ 6  8 10 12]]\n",
      "[[-4 -4 -4 -4]]\n",
      "[[ 5 12 21 32]]\n",
      "[[0 0 0 0]]\n",
      "[[1 2 3 4]]\n",
      "[[    1    64  2187 65536]]\n"
     ]
    }
   ],
   "source": [
    "#task 4\n",
    "import numpy as np\n",
    "arr1 = list(map(int, input().split()))\n",
    "arr2 = list(map(int, input().split()))\n",
    "r, c = list(map(int, input().split()))\n",
    "print('array1:', arr1)\n",
    "print('array2:', arr2)\n",
    "m1= np.array(arr1).reshape(r, c)\n",
    "m2= np.array(arr2).reshape(r, c)\n",
    "addition = np.add(m1, m2)\n",
    "substration = np.subtract(m1, m2)\n",
    "multip = np.multiply(m1, m2)\n",
    "div = np.floor_divide(m1, m2)\n",
    "mod= np.mod(m1, m2)\n",
    "power = np.power(m1,m2)\n",
    "print(addition)\n",
    "print(substration)\n",
    "print(multip)\n",
    "print(div)\n",
    "print(mod)\n",
    "print(power)"
   ]
  },
  {
   "cell_type": "code",
   "execution_count": 6,
   "metadata": {},
   "outputs": [
    {
     "name": "stdout",
     "output_type": "stream",
     "text": [
      "array1: [2, 3, 4, 5]\n",
      "[[2 4]\n",
      " [3 5]]\n"
     ]
    }
   ],
   "source": [
    "import numpy as np\n",
    "arr1 = list(map(int, input().split()))\n",
    "r, c = list(map(int, input().split()))\n",
    "print('array1:', arr1)\n",
    "m1= np.array(arr1).reshape(r, c)\n",
    "tran= np.transpose(m1)\n",
    "print(tran)"
   ]
  },
  {
   "cell_type": "code",
   "execution_count": 9,
   "metadata": {},
   "outputs": [
    {
     "ename": "TypeError",
     "evalue": "'int' object is not iterable",
     "output_type": "error",
     "traceback": [
      "\u001b[1;31m---------------------------------------------------------------------------\u001b[0m",
      "\u001b[1;31mTypeError\u001b[0m                                 Traceback (most recent call last)",
      "Cell \u001b[1;32mIn[9], line 5\u001b[0m\n\u001b[0;32m      3\u001b[0m r, c \u001b[38;5;241m=\u001b[39m \u001b[38;5;28mlist\u001b[39m(\u001b[38;5;28mmap\u001b[39m(\u001b[38;5;28mint\u001b[39m, \u001b[38;5;28minput\u001b[39m()\u001b[38;5;241m.\u001b[39msplit()))\n\u001b[0;32m      4\u001b[0m lst \u001b[38;5;241m=\u001b[39m[]\n\u001b[1;32m----> 5\u001b[0m \u001b[38;5;28;01mfor\u001b[39;00m i \u001b[38;5;129;01min\u001b[39;00m r:\n\u001b[0;32m      6\u001b[0m     x \u001b[38;5;241m=\u001b[39m \u001b[38;5;28mlist\u001b[39m(\u001b[38;5;28mmap\u001b[39m(\u001b[38;5;28mint\u001b[39m, \u001b[38;5;28minput\u001b[39m()\u001b[38;5;241m.\u001b[39msplit()))\n\u001b[0;32m      7\u001b[0m     \u001b[38;5;28;01mfor\u001b[39;00m j \u001b[38;5;129;01min\u001b[39;00m x:\n",
      "\u001b[1;31mTypeError\u001b[0m: 'int' object is not iterable"
     ]
    }
   ],
   "source": [
    "import numpy as np\n",
    "\n",
    "r, c = list(map(int, input().split()))\n",
    "lst =[]\n",
    "for i in r:\n",
    "    x = list(map(int, input().split()))\n",
    "    for j in x:\n",
    "        lst.append(j)\n",
    "\n",
    "m1= np.array(arr1).reshape(r, c)\n",
    "flat = np.array(lst)\n",
    "print(m1)\n",
    "print(flat)"
   ]
  }
 ],
 "metadata": {
  "kernelspec": {
   "display_name": "Python 3",
   "language": "python",
   "name": "python3"
  },
  "language_info": {
   "codemirror_mode": {
    "name": "ipython",
    "version": 3
   },
   "file_extension": ".py",
   "mimetype": "text/x-python",
   "name": "python",
   "nbconvert_exporter": "python",
   "pygments_lexer": "ipython3",
   "version": "3.10.1"
  }
 },
 "nbformat": 4,
 "nbformat_minor": 2
}
