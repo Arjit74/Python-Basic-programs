{
 "cells": [
  {
   "cell_type": "code",
   "execution_count": null,
   "metadata": {},
   "outputs": [],
   "source": [
    "# exception handling:-\n",
    "'''\n",
    "Errors:- \n",
    "1. Syntax error:- Standard rules and regulations for the code \n",
    "2. Exceptions (Error at runtime) - During the execution of the program due to which the code doesn't run, we can handle this type of error\n",
    "\n",
    "'''"
   ]
  },
  {
   "cell_type": "code",
   "execution_count": 1,
   "metadata": {},
   "outputs": [
    {
     "ename": "TypeError",
     "evalue": "unsupported operand type(s) for +: 'int' and 'str'",
     "output_type": "error",
     "traceback": [
      "\u001b[1;31m---------------------------------------------------------------------------\u001b[0m",
      "\u001b[1;31mTypeError\u001b[0m                                 Traceback (most recent call last)",
      "\u001b[1;32md:\\Python hackerrank\\27.10.23\\7\\12\\23\\Exception Handling.ipynb Cell 2\u001b[0m line \u001b[0;36m4\n\u001b[0;32m      <a href='vscode-notebook-cell:/d%3A/Python%20hackerrank/27.10.23/7/12/23/Exception%20Handling.ipynb#W1sZmlsZQ%3D%3D?line=1'>2</a>\u001b[0m a\u001b[39m=\u001b[39m \u001b[39m3\u001b[39m\n\u001b[0;32m      <a href='vscode-notebook-cell:/d%3A/Python%20hackerrank/27.10.23/7/12/23/Exception%20Handling.ipynb#W1sZmlsZQ%3D%3D?line=2'>3</a>\u001b[0m b\u001b[39m=\u001b[39m \u001b[39m'\u001b[39m\u001b[39m34\u001b[39m\u001b[39m'\u001b[39m\n\u001b[1;32m----> <a href='vscode-notebook-cell:/d%3A/Python%20hackerrank/27.10.23/7/12/23/Exception%20Handling.ipynb#W1sZmlsZQ%3D%3D?line=3'>4</a>\u001b[0m out \u001b[39m=\u001b[39m a\u001b[39m+\u001b[39;49mb\n\u001b[0;32m      <a href='vscode-notebook-cell:/d%3A/Python%20hackerrank/27.10.23/7/12/23/Exception%20Handling.ipynb#W1sZmlsZQ%3D%3D?line=4'>5</a>\u001b[0m \u001b[39mprint\u001b[39m(out)\n",
      "\u001b[1;31mTypeError\u001b[0m: unsupported operand type(s) for +: 'int' and 'str'"
     ]
    }
   ],
   "source": [
    "# Eg:- (Type Error) :- Here the exceptopn occcured due to the string attribute of b \n",
    "a= 3\n",
    "b= '34'\n",
    "out = a+b\n",
    "print(out)"
   ]
  },
  {
   "cell_type": "code",
   "execution_count": 5,
   "metadata": {},
   "outputs": [
    {
     "ename": "ValueError",
     "evalue": "invalid literal for int() with base 10: '4.6'",
     "output_type": "error",
     "traceback": [
      "\u001b[1;31m---------------------------------------------------------------------------\u001b[0m",
      "\u001b[1;31mValueError\u001b[0m                                Traceback (most recent call last)",
      "\u001b[1;32md:\\Python hackerrank\\27.10.23\\7\\12\\23\\Exception Handling.ipynb Cell 3\u001b[0m line \u001b[0;36m2\n\u001b[0;32m      <a href='vscode-notebook-cell:/d%3A/Python%20hackerrank/27.10.23/7/12/23/Exception%20Handling.ipynb#W2sZmlsZQ%3D%3D?line=0'>1</a>\u001b[0m \u001b[39m# Typecasting by int :- since we have a string in a Will give a Type Error\u001b[39;00m\n\u001b[1;32m----> <a href='vscode-notebook-cell:/d%3A/Python%20hackerrank/27.10.23/7/12/23/Exception%20Handling.ipynb#W2sZmlsZQ%3D%3D?line=1'>2</a>\u001b[0m a\u001b[39m=\u001b[39m \u001b[39mint\u001b[39;49m(\u001b[39m'\u001b[39;49m\u001b[39m4.6\u001b[39;49m\u001b[39m'\u001b[39;49m)\n\u001b[0;32m      <a href='vscode-notebook-cell:/d%3A/Python%20hackerrank/27.10.23/7/12/23/Exception%20Handling.ipynb#W2sZmlsZQ%3D%3D?line=2'>3</a>\u001b[0m b\u001b[39m=\u001b[39m \u001b[39m34\u001b[39m\n\u001b[0;32m      <a href='vscode-notebook-cell:/d%3A/Python%20hackerrank/27.10.23/7/12/23/Exception%20Handling.ipynb#W2sZmlsZQ%3D%3D?line=3'>4</a>\u001b[0m out\u001b[39m=\u001b[39m a\u001b[39m+\u001b[39mb\n",
      "\u001b[1;31mValueError\u001b[0m: invalid literal for int() with base 10: '4.6'"
     ]
    }
   ],
   "source": [
    "# Typecasting by int :- since we have a string in a Will give a Value Error\n",
    "a= int('4.6')\n",
    "b= 34\n",
    "out= a+b\n",
    "print(out)\n"
   ]
  },
  {
   "cell_type": "code",
   "execution_count": 6,
   "metadata": {},
   "outputs": [
    {
     "name": "stdout",
     "output_type": "stream",
     "text": [
      "44\n"
     ]
    }
   ],
   "source": [
    "# '''Other way :- changing the base of a to 16'''\n",
    "a= int('a',16)\n",
    "b= 34\n",
    "out= a+b\n",
    "print(out)"
   ]
  },
  {
   "cell_type": "code",
   "execution_count": 7,
   "metadata": {},
   "outputs": [
    {
     "ename": "ZeroDivisionError",
     "evalue": "division by zero",
     "output_type": "error",
     "traceback": [
      "\u001b[1;31m---------------------------------------------------------------------------\u001b[0m",
      "\u001b[1;31mZeroDivisionError\u001b[0m                         Traceback (most recent call last)",
      "\u001b[1;32md:\\Python hackerrank\\27.10.23\\7\\12\\23\\Exception Handling.ipynb Cell 5\u001b[0m line \u001b[0;36m3\n\u001b[0;32m      <a href='vscode-notebook-cell:/d%3A/Python%20hackerrank/27.10.23/7/12/23/Exception%20Handling.ipynb#W4sZmlsZQ%3D%3D?line=0'>1</a>\u001b[0m a\u001b[39m=\u001b[39m\u001b[39m2\u001b[39m\n\u001b[0;32m      <a href='vscode-notebook-cell:/d%3A/Python%20hackerrank/27.10.23/7/12/23/Exception%20Handling.ipynb#W4sZmlsZQ%3D%3D?line=1'>2</a>\u001b[0m b\u001b[39m=\u001b[39m\u001b[39m0\u001b[39m\n\u001b[1;32m----> <a href='vscode-notebook-cell:/d%3A/Python%20hackerrank/27.10.23/7/12/23/Exception%20Handling.ipynb#W4sZmlsZQ%3D%3D?line=2'>3</a>\u001b[0m out\u001b[39m=\u001b[39m a\u001b[39m/\u001b[39;49mb\n\u001b[0;32m      <a href='vscode-notebook-cell:/d%3A/Python%20hackerrank/27.10.23/7/12/23/Exception%20Handling.ipynb#W4sZmlsZQ%3D%3D?line=3'>4</a>\u001b[0m \u001b[39mprint\u001b[39m(out)\n",
      "\u001b[1;31mZeroDivisionError\u001b[0m: division by zero"
     ]
    }
   ],
   "source": [
    "a=2\n",
    "b=0\n",
    "out= a/b\n",
    "print(out)"
   ]
  },
  {
   "cell_type": "code",
   "execution_count": 8,
   "metadata": {},
   "outputs": [
    {
     "name": "stdout",
     "output_type": "stream",
     "text": [
      "Error\n"
     ]
    }
   ],
   "source": [
    "'''How to handle the exception handling\n",
    "we write the code which is suspicious in try block\n",
    "and the except will give the error which we had given '''\n",
    "\n",
    "try:\n",
    "    a = 4\n",
    "    b = 0\n",
    "    out = a/b\n",
    "    print(out)\n",
    "except:\n",
    "    print('Error')"
   ]
  },
  {
   "cell_type": "code",
   "execution_count": 18,
   "metadata": {},
   "outputs": [
    {
     "ename": "ValueError",
     "evalue": "invalid literal for int() with base 10: '0x'",
     "output_type": "error",
     "traceback": [
      "\u001b[1;31m---------------------------------------------------------------------------\u001b[0m",
      "\u001b[1;31mValueError\u001b[0m                                Traceback (most recent call last)",
      "\u001b[1;32md:\\Python hackerrank\\27.10.23\\7\\12\\23\\Exception Handling.ipynb Cell 7\u001b[0m line \u001b[0;36m6\n\u001b[0;32m      <a href='vscode-notebook-cell:/d%3A/Python%20hackerrank/27.10.23/7/12/23/Exception%20Handling.ipynb#W6sZmlsZQ%3D%3D?line=3'>4</a>\u001b[0m     a \u001b[39m=\u001b[39m \u001b[39m4\u001b[39m\n\u001b[0;32m      <a href='vscode-notebook-cell:/d%3A/Python%20hackerrank/27.10.23/7/12/23/Exception%20Handling.ipynb#W6sZmlsZQ%3D%3D?line=4'>5</a>\u001b[0m     b \u001b[39m=\u001b[39m \u001b[39m'\u001b[39m\u001b[39m0x\u001b[39m\u001b[39m'\u001b[39m\n\u001b[1;32m----> <a href='vscode-notebook-cell:/d%3A/Python%20hackerrank/27.10.23/7/12/23/Exception%20Handling.ipynb#W6sZmlsZQ%3D%3D?line=5'>6</a>\u001b[0m     out \u001b[39m=\u001b[39m a\u001b[39m/\u001b[39m\u001b[39mint\u001b[39;49m(b)\n\u001b[0;32m      <a href='vscode-notebook-cell:/d%3A/Python%20hackerrank/27.10.23/7/12/23/Exception%20Handling.ipynb#W6sZmlsZQ%3D%3D?line=6'>7</a>\u001b[0m     \u001b[39mprint\u001b[39m(out)\n\u001b[0;32m      <a href='vscode-notebook-cell:/d%3A/Python%20hackerrank/27.10.23/7/12/23/Exception%20Handling.ipynb#W6sZmlsZQ%3D%3D?line=7'>8</a>\u001b[0m \u001b[39mexcept\u001b[39;00m \u001b[39mZeroDivisionError\u001b[39;00m:\n",
      "\u001b[1;31mValueError\u001b[0m: invalid literal for int() with base 10: '0x'"
     ]
    }
   ],
   "source": [
    "'''Since we haven't handle the value error here it will Run'''\n",
    "\n",
    "try:\n",
    "    a = 4\n",
    "    b = '0x'\n",
    "    out = a/int(b)\n",
    "    print(out)\n",
    "except ZeroDivisionError:\n",
    "    print('Error')"
   ]
  },
  {
   "cell_type": "code",
   "execution_count": 19,
   "metadata": {},
   "outputs": [
    {
     "name": "stdout",
     "output_type": "stream",
     "text": [
      "Error division by zero\n"
     ]
    }
   ],
   "source": [
    "'''Since we have handle the value error here it will Run'''\n",
    "try:\n",
    "    a = 4\n",
    "    b = '0'\n",
    "    out = a/int(b)\n",
    "    print(out)\n",
    "except (ZeroDivisionError, ValueError) as e:\n",
    "    print('Error',e)"
   ]
  },
  {
   "cell_type": "code",
   "execution_count": 20,
   "metadata": {},
   "outputs": [
    {
     "name": "stdout",
     "output_type": "stream",
     "text": [
      "Error invalid literal for int() with base 10: '0x'\n"
     ]
    }
   ],
   "source": [
    "'''e will give the message as where the error is there '''\n",
    "try:\n",
    "    a = 4\n",
    "    b = '0x'\n",
    "    out = a/int(b)\n",
    "    print(out)\n",
    "except (ZeroDivisionError, ValueError) as e:\n",
    "    print('Error',e)"
   ]
  },
  {
   "cell_type": "code",
   "execution_count": 31,
   "metadata": {},
   "outputs": [
    {
     "ename": "ValueError",
     "evalue": "invalid literal for int() with base 10: '//'",
     "output_type": "error",
     "traceback": [
      "\u001b[1;31m---------------------------------------------------------------------------\u001b[0m",
      "\u001b[1;31mValueError\u001b[0m                                Traceback (most recent call last)",
      "\u001b[1;32md:\\Python hackerrank\\27.10.23\\7\\12\\23\\Exception Handling.ipynb Cell 10\u001b[0m line \u001b[0;36m3\n\u001b[0;32m      <a href='vscode-notebook-cell:/d%3A/Python%20hackerrank/27.10.23/7/12/23/Exception%20Handling.ipynb#X12sZmlsZQ%3D%3D?line=0'>1</a>\u001b[0m \u001b[39m''' '''\u001b[39;00m\n\u001b[1;32m----> <a href='vscode-notebook-cell:/d%3A/Python%20hackerrank/27.10.23/7/12/23/Exception%20Handling.ipynb#X12sZmlsZQ%3D%3D?line=2'>3</a>\u001b[0m val \u001b[39m=\u001b[39m \u001b[39mint\u001b[39;49m(\u001b[39minput\u001b[39;49m(\u001b[39m'\u001b[39;49m\u001b[39mEnter the integer:-\u001b[39;49m\u001b[39m'\u001b[39;49m))\n\u001b[0;32m      <a href='vscode-notebook-cell:/d%3A/Python%20hackerrank/27.10.23/7/12/23/Exception%20Handling.ipynb#X12sZmlsZQ%3D%3D?line=3'>4</a>\u001b[0m rec\u001b[39m=\u001b[39m \u001b[39m1\u001b[39m\u001b[39m/\u001b[39mval\n\u001b[0;32m      <a href='vscode-notebook-cell:/d%3A/Python%20hackerrank/27.10.23/7/12/23/Exception%20Handling.ipynb#X12sZmlsZQ%3D%3D?line=4'>5</a>\u001b[0m \u001b[39mprint\u001b[39m(rec)\n",
      "\u001b[1;31mValueError\u001b[0m: invalid literal for int() with base 10: '//'"
     ]
    }
   ],
   "source": [
    "''' '''\n",
    "\n",
    "val = int(input('Enter the integer:-'))\n",
    "rec= 1/val\n",
    "print(rec)"
   ]
  },
  {
   "cell_type": "code",
   "execution_count": 27,
   "metadata": {},
   "outputs": [
    {
     "name": "stdout",
     "output_type": "stream",
     "text": [
      "Not valid integer\n"
     ]
    }
   ],
   "source": [
    "'''Handling the excpetion'''\n",
    "try:\n",
    "    val = int(input('Enter the integer:-'))\n",
    "    rec= 1/val\n",
    "    print(rec)\n",
    "except:\n",
    "    print('Not valid integer')"
   ]
  },
  {
   "cell_type": "code",
   "execution_count": 1,
   "metadata": {},
   "outputs": [
    {
     "name": "stdout",
     "output_type": "stream",
     "text": [
      "Invalid Value invalid literal for int() with base 10: '\"hello\"'\n",
      "Invalid Value invalid literal for int() with base 10: '\"10\"'\n"
     ]
    }
   ],
   "source": [
    "while 1:\n",
    "    try:\n",
    "        val = int(input('Enter the integer:-'))\n",
    "        rec= 1/val\n",
    "        print(rec)\n",
    "        break\n",
    "    except ValueError as e:\n",
    "        print('Invalid Value',e)\n",
    "    except ZeroDivisionError as e:\n",
    "        print('Invalid Interger for operation ',e)"
   ]
  },
  {
   "cell_type": "code",
   "execution_count": 12,
   "metadata": {},
   "outputs": [
    {
     "name": "stdout",
     "output_type": "stream",
     "text": [
      "[]\n"
     ]
    }
   ],
   "source": [
    "def Prime(a):\n",
    "    Prime=[]\n",
    "    for i in range(1,a+1):\n",
    "        count= 0\n",
    "        if a%i==0:\n",
    "            count+=1\n",
    "    if count==2:\n",
    "        Prime.append(i)\n",
    "    return Prime\n",
    "# main\n",
    "val= int(input(\"Enter the number:-\"))\n",
    "out= Prime(val)\n",
    "print(out)\n"
   ]
  },
  {
   "cell_type": "code",
   "execution_count": 10,
   "metadata": {},
   "outputs": [
    {
     "name": "stdout",
     "output_type": "stream",
     "text": [
      "Prime numbers up to 10 are: [2, 3, 5, 7]\n"
     ]
    }
   ],
   "source": [
    "def Prime(a):\n",
    "    primes = []\n",
    "    for i in range(2, a + 1):\n",
    "        count = 0\n",
    "        for j in range(1, i + 1):\n",
    "            if i % j == 0:\n",
    "                count += 1\n",
    "        if count == 2:\n",
    "            primes.append(i)\n",
    "    return primes\n",
    "\n",
    "# main\n",
    "val = int(input(\"Enter the number: \"))\n",
    "result = Prime(val)\n",
    "print(\"Prime numbers up to\", val, \"are:\", result)\n"
   ]
  }
 ],
 "metadata": {
  "kernelspec": {
   "display_name": "Python 3",
   "language": "python",
   "name": "python3"
  },
  "language_info": {
   "codemirror_mode": {
    "name": "ipython",
    "version": 3
   },
   "file_extension": ".py",
   "mimetype": "text/x-python",
   "name": "python",
   "nbconvert_exporter": "python",
   "pygments_lexer": "ipython3",
   "version": "3.11.5"
  }
 },
 "nbformat": 4,
 "nbformat_minor": 2
}
